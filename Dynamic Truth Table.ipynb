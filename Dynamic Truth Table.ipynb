{
  "nbformat": 4,
  "nbformat_minor": 0,
  "metadata": {
    "colab": {
      "provenance": []
    },
    "kernelspec": {
      "name": "python3",
      "display_name": "Python 3"
    },
    "language_info": {
      "name": "python"
    }
  },
  "cells": [
    {
      "cell_type": "markdown",
      "source": [
        "Dynamic Truth Table generation from given logical expressions.\n"
      ],
      "metadata": {
        "id": "9SPSpBO4Ka8S"
      }
    },
    {
      "cell_type": "markdown",
      "source": [
        "Steps:\n",
        "\n",
        "Ask the user for a logical expression\n",
        "(e.g., A and B or not A or B)\n",
        "\n",
        "Figure out what the variables are (A, B, etc.)\n",
        "\n",
        "Generate all combinations of True/False for those variables\n",
        "\n",
        "Evaluate the expression for each combination\n",
        "\n",
        "Print the truth table\n",
        "\n",
        "\n",
        "\n"
      ],
      "metadata": {
        "id": "ufgMlErNKmZ_"
      }
    },
    {
      "cell_type": "code",
      "execution_count": 1,
      "metadata": {
        "id": "ZzecrRR4KD22"
      },
      "outputs": [],
      "source": [
        "from itertools import product"
      ]
    },
    {
      "cell_type": "code",
      "source": [
        "#splitting expression into words\n",
        "# Replace special symbols with spaces to separate tokens\n",
        "#keep and return sorted list of variables"
      ],
      "metadata": {
        "id": "y8DpwxoRK7BW"
      },
      "execution_count": 2,
      "outputs": []
    },
    {
      "cell_type": "code",
      "source": [
        "def extract_variables(expr):\n",
        "  keywords={\"and\",\"or\",\"not\",\"True\",\"False\"}\n",
        "  symbols_to_space = [\"(\", \")\", \"⇒\", \"→\", \"↔\", \"<=>\"]\n",
        "  for sym in symbols_to_space:\n",
        "    expr=expr.replace(sym,\" \")\n",
        "  tokens=expr.split()\n",
        "  variables=[]\n",
        "  for token in tokens:\n",
        "    if token.isalpha() and token not in keywords and token not in variables:\n",
        "      variables.append(token)\n",
        "  variables=sorted(list(set(tokens)-keywords))\n",
        "  return variables"
      ],
      "metadata": {
        "id": "3A99hf-DLJXr"
      },
      "execution_count": 4,
      "outputs": []
    },
    {
      "cell_type": "code",
      "source": [
        "#converting symbols to python logic\n",
        "\n",
        "def preprocess(expr):\n",
        "    expr = expr.replace(\"¬\", \"not \")\n",
        "    expr = expr.replace(\"∧\", \"and\")\n",
        "    expr = expr.replace(\"∨\", \"or\")\n",
        "    expr = expr.replace(\"→\", \"=>\").replace(\"⇒\", \"=>\")\n",
        "    expr = expr.replace(\"↔\", \"<=>\")\n",
        "\n",
        "    # Handle implication A => B → (not A or B)\n",
        "    expr = expr.replace(\"<=>\", \" <=> \")  # spacing to split easily\n",
        "    expr = expr.replace(\"=>\", \" => \")\n",
        "\n",
        "    tokens = expr.split()\n",
        "    while \"=>\" in tokens:\n",
        "        idx = tokens.index(\"=>\")\n",
        "        left = tokens[idx - 1]\n",
        "        right = tokens[idx + 1]\n",
        "        tokens[idx - 1:idx + 2] = [f\"(not {left} or {right})\"]\n",
        "    while \"<=>\" in tokens:\n",
        "        idx = tokens.index(\"<=>\")\n",
        "        left = tokens[idx - 1]\n",
        "        right = tokens[idx + 1]\n",
        "        tokens[idx - 1:idx + 2] = [f\"(({left} and {right}) or (not {left} and not {right}))\"]\n",
        "    return \" \".join(tokens)\n"
      ],
      "metadata": {
        "id": "eNf4YpAEMHRf"
      },
      "execution_count": 5,
      "outputs": []
    },
    {
      "cell_type": "code",
      "source": [
        "#Replacing variables with values and evaluating expressions\n",
        "\n",
        "# Take an expression like \"not A or B\"\n",
        "# Replace A and B with their values (T or F)\n",
        "# Use eval() to calculate the result\n",
        "\n",
        "\n",
        "\n",
        "def evaluate(expr,values):\n",
        "  for val in values:\n",
        "    expr=expr.replace(val,str(values[val]))\n",
        "  try:\n",
        "    return eval(expr)\n",
        "  except:\n",
        "    return \"Error\""
      ],
      "metadata": {
        "id": "IMsnIksDMeAF"
      },
      "execution_count": 9,
      "outputs": []
    },
    {
      "cell_type": "code",
      "source": [
        "\n",
        "def generate_truth_table(expr):\n",
        "    original_expr = expr\n",
        "    expr = preprocess(expr)\n",
        "    variables = extract_variables(original_expr)\n",
        "\n",
        "    print(\"Variables found:\", variables)\n",
        "    print(\"\\nTruth Table:\")\n",
        "    print(\" | \".join(variables) + \" | Result\")\n",
        "    print(\"-\" * (6 * len(variables) + 10))\n",
        "\n",
        "    for combo in product([False, True], repeat=len(variables)):\n",
        "        values = dict(zip(variables, combo))\n",
        "        result = evaluate(expr, values)\n",
        "        row = \" | \".join(str(values[v]) for v in variables)\n",
        "        print(f\"{row} | {result}\")"
      ],
      "metadata": {
        "id": "vRL0ihapN0hU"
      },
      "execution_count": 7,
      "outputs": []
    },
    {
      "cell_type": "code",
      "source": [
        "print(\"Enter a logical expression using: and, or, not, parentheses\")\n",
        "print(\"Example: (A and B) or not C\\n\")\n",
        "\n",
        "user_expr = input(\"Your expression: \")\n",
        "\n",
        "generate_truth_table(user_expr)"
      ],
      "metadata": {
        "colab": {
          "base_uri": "https://localhost:8080/"
        },
        "id": "Xx4n_mwQN4np",
        "outputId": "0bca11a0-0e02-45eb-cf24-78708596900f"
      },
      "execution_count": 11,
      "outputs": [
        {
          "output_type": "stream",
          "name": "stdout",
          "text": [
            "Enter a logical expression using: and, or, not, parentheses\n",
            "Example: (A and B) or not C\n",
            "\n",
            "Your expression: (not A and not B) or C\n",
            "Variables found: ['A', 'B', 'C']\n",
            "\n",
            "Truth Table:\n",
            "A | B | C | Result\n",
            "----------------------------\n",
            "False | False | False | True\n",
            "False | False | True | True\n",
            "False | True | False | False\n",
            "False | True | True | True\n",
            "True | False | False | False\n",
            "True | False | True | True\n",
            "True | True | False | False\n",
            "True | True | True | True\n"
          ]
        }
      ]
    }
  ]
}