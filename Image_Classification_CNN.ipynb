{
  "nbformat": 4,
  "nbformat_minor": 0,
  "metadata": {
    "colab": {
      "provenance": [],
      "gpuType": "T4"
    },
    "kernelspec": {
      "name": "python3",
      "display_name": "Python 3"
    },
    "language_info": {
      "name": "python"
    },
    "accelerator": "GPU"
  },
  "cells": [
    {
      "cell_type": "code",
      "source": [
        "import tensorflow as tf\n",
        "from tensorflow.keras.models import Sequential\n",
        "from tensorflow.keras.layers import Dense\n",
        "\n",
        "\n",
        "import kagglehub\n",
        "path = kagglehub.dataset_download(\"zalando-research/fashionmnist\")\n",
        "\n",
        "(x_train, y_train), (x_test, y_test) = tf.keras.datasets.fashion_mnist.load_data()"
      ],
      "metadata": {
        "id": "g-MFQjGFGBa1"
      },
      "execution_count": null,
      "outputs": []
    },
    {
      "cell_type": "code",
      "source": [
        "print(x_train.shape,y_train.shape)\n",
        "print(x_test.shape,y_test.shape)\n",
        "print(x_val.shape,y_val.shape)"
      ],
      "metadata": {
        "colab": {
          "base_uri": "https://localhost:8080/",
          "height": 211
        },
        "id": "QffI7sKEHuXL",
        "outputId": "ad15299c-65a0-4d55-8063-0ee580aae6c9"
      },
      "execution_count": null,
      "outputs": [
        {
          "output_type": "stream",
          "name": "stdout",
          "text": [
            "(60000, 28, 28) (60000,)\n",
            "(10000, 28, 28) (10000,)\n"
          ]
        },
        {
          "output_type": "error",
          "ename": "NameError",
          "evalue": "name 'x_val' is not defined",
          "traceback": [
            "\u001b[0;31m---------------------------------------------------------------------------\u001b[0m",
            "\u001b[0;31mNameError\u001b[0m                                 Traceback (most recent call last)",
            "\u001b[0;32m<ipython-input-5-2597641918>\u001b[0m in \u001b[0;36m<cell line: 0>\u001b[0;34m()\u001b[0m\n\u001b[1;32m      1\u001b[0m \u001b[0mprint\u001b[0m\u001b[0;34m(\u001b[0m\u001b[0mx_train\u001b[0m\u001b[0;34m.\u001b[0m\u001b[0mshape\u001b[0m\u001b[0;34m,\u001b[0m\u001b[0my_train\u001b[0m\u001b[0;34m.\u001b[0m\u001b[0mshape\u001b[0m\u001b[0;34m)\u001b[0m\u001b[0;34m\u001b[0m\u001b[0;34m\u001b[0m\u001b[0m\n\u001b[1;32m      2\u001b[0m \u001b[0mprint\u001b[0m\u001b[0;34m(\u001b[0m\u001b[0mx_test\u001b[0m\u001b[0;34m.\u001b[0m\u001b[0mshape\u001b[0m\u001b[0;34m,\u001b[0m\u001b[0my_test\u001b[0m\u001b[0;34m.\u001b[0m\u001b[0mshape\u001b[0m\u001b[0;34m)\u001b[0m\u001b[0;34m\u001b[0m\u001b[0;34m\u001b[0m\u001b[0m\n\u001b[0;32m----> 3\u001b[0;31m \u001b[0mprint\u001b[0m\u001b[0;34m(\u001b[0m\u001b[0mx_val\u001b[0m\u001b[0;34m.\u001b[0m\u001b[0mshape\u001b[0m\u001b[0;34m,\u001b[0m\u001b[0my_val\u001b[0m\u001b[0;34m.\u001b[0m\u001b[0mshape\u001b[0m\u001b[0;34m)\u001b[0m\u001b[0;34m\u001b[0m\u001b[0;34m\u001b[0m\u001b[0m\n\u001b[0m",
            "\u001b[0;31mNameError\u001b[0m: name 'x_val' is not defined"
          ]
        }
      ]
    },
    {
      "cell_type": "code",
      "source": [
        "(x_val,y_val)=(x_train[50000:],y_train[50000:])"
      ],
      "metadata": {
        "id": "JRk0jzBNbZuf"
      },
      "execution_count": null,
      "outputs": []
    },
    {
      "cell_type": "code",
      "source": [
        "print(x_val.shape,y_val.shape)"
      ],
      "metadata": {
        "colab": {
          "base_uri": "https://localhost:8080/"
        },
        "id": "D-21UpqJbf3J",
        "outputId": "92fa1969-866d-4707-faa0-bbc630af42ec"
      },
      "execution_count": null,
      "outputs": [
        {
          "output_type": "stream",
          "name": "stdout",
          "text": [
            "(10000, 28, 28) (10000,)\n"
          ]
        }
      ]
    },
    {
      "cell_type": "code",
      "source": [
        "print(y_train[5])"
      ],
      "metadata": {
        "colab": {
          "base_uri": "https://localhost:8080/"
        },
        "id": "ycEr5y9aeT-H",
        "outputId": "e026266e-816a-4679-84ee-a8a43666c279"
      },
      "execution_count": null,
      "outputs": [
        {
          "output_type": "stream",
          "name": "stdout",
          "text": [
            "2\n"
          ]
        }
      ]
    },
    {
      "cell_type": "code",
      "source": [
        "import matplotlib.pyplot as plt\n",
        "import torchvision\n",
        "import torchvision.transforms as transforms\n",
        "\n",
        "# Define class labels for FashionMNIST\n",
        "classes = ['T-shirt/top', 'Trouser', 'Pullover', 'Dress', 'Coat',\n",
        "           'Sandal', 'Shirt', 'Sneaker', 'Bag', 'Ankle boot']\n",
        "\n",
        "# Define the transform used for training/validation\n",
        "transform = transforms.Compose([\n",
        "    transforms.ToTensor(),\n",
        "    transforms.Normalize((0.5,), (0.5,))\n",
        "])\n",
        "\n",
        "# Load the dataset\n",
        "train_dataset = torchvision.datasets.FashionMNIST(root='./data', train=True, download=True, transform=transform)\n",
        "train_loader = torch.utils.data.DataLoader(train_dataset, batch_size=16, shuffle=True)\n",
        "\n",
        "# Get a batch of images\n",
        "data_iter = iter(train_loader)\n",
        "images, labels = next(data_iter)\n",
        "\n",
        "# Unnormalize images for display (convert from [-1, 1] to [0, 1])\n",
        "images = images * 0.5 + 0.5\n",
        "\n",
        "# Plot the images with their class names\n",
        "fig, axes = plt.subplots(4, 4, figsize=(8, 8))\n",
        "axes = axes.flatten()\n",
        "\n",
        "for i in range(16):\n",
        "    image = images[i].squeeze()  # remove channel dim (1,28,28) → (28,28)\n",
        "    label = labels[i].item()\n",
        "\n",
        "    axes[i].imshow(image, cmap='gray')\n",
        "    axes[i].set_title(classes[label])\n",
        "    axes[i].axis('off')\n",
        "\n",
        "plt.tight_layout()\n",
        "plt.show()\n"
      ],
      "metadata": {
        "colab": {
          "base_uri": "https://localhost:8080/",
          "height": 211
        },
        "id": "8verH9OxW7KK",
        "outputId": "bd0cd812-c1d3-4e86-e1ca-8072d353f9fb"
      },
      "execution_count": null,
      "outputs": [
        {
          "output_type": "error",
          "ename": "NameError",
          "evalue": "name 'torch' is not defined",
          "traceback": [
            "\u001b[0;31m---------------------------------------------------------------------------\u001b[0m",
            "\u001b[0;31mNameError\u001b[0m                                 Traceback (most recent call last)",
            "\u001b[0;32m<ipython-input-10-2925931912>\u001b[0m in \u001b[0;36m<cell line: 0>\u001b[0;34m()\u001b[0m\n\u001b[1;32m     15\u001b[0m \u001b[0;31m# Load the dataset\u001b[0m\u001b[0;34m\u001b[0m\u001b[0;34m\u001b[0m\u001b[0m\n\u001b[1;32m     16\u001b[0m \u001b[0mtrain_dataset\u001b[0m \u001b[0;34m=\u001b[0m \u001b[0mtorchvision\u001b[0m\u001b[0;34m.\u001b[0m\u001b[0mdatasets\u001b[0m\u001b[0;34m.\u001b[0m\u001b[0mFashionMNIST\u001b[0m\u001b[0;34m(\u001b[0m\u001b[0mroot\u001b[0m\u001b[0;34m=\u001b[0m\u001b[0;34m'./data'\u001b[0m\u001b[0;34m,\u001b[0m \u001b[0mtrain\u001b[0m\u001b[0;34m=\u001b[0m\u001b[0;32mTrue\u001b[0m\u001b[0;34m,\u001b[0m \u001b[0mdownload\u001b[0m\u001b[0;34m=\u001b[0m\u001b[0;32mTrue\u001b[0m\u001b[0;34m,\u001b[0m \u001b[0mtransform\u001b[0m\u001b[0;34m=\u001b[0m\u001b[0mtransform\u001b[0m\u001b[0;34m)\u001b[0m\u001b[0;34m\u001b[0m\u001b[0;34m\u001b[0m\u001b[0m\n\u001b[0;32m---> 17\u001b[0;31m \u001b[0mtrain_loader\u001b[0m \u001b[0;34m=\u001b[0m \u001b[0mtorch\u001b[0m\u001b[0;34m.\u001b[0m\u001b[0mutils\u001b[0m\u001b[0;34m.\u001b[0m\u001b[0mdata\u001b[0m\u001b[0;34m.\u001b[0m\u001b[0mDataLoader\u001b[0m\u001b[0;34m(\u001b[0m\u001b[0mtrain_dataset\u001b[0m\u001b[0;34m,\u001b[0m \u001b[0mbatch_size\u001b[0m\u001b[0;34m=\u001b[0m\u001b[0;36m16\u001b[0m\u001b[0;34m,\u001b[0m \u001b[0mshuffle\u001b[0m\u001b[0;34m=\u001b[0m\u001b[0;32mTrue\u001b[0m\u001b[0;34m)\u001b[0m\u001b[0;34m\u001b[0m\u001b[0;34m\u001b[0m\u001b[0m\n\u001b[0m\u001b[1;32m     18\u001b[0m \u001b[0;34m\u001b[0m\u001b[0m\n\u001b[1;32m     19\u001b[0m \u001b[0;31m# Get a batch of images\u001b[0m\u001b[0;34m\u001b[0m\u001b[0;34m\u001b[0m\u001b[0m\n",
            "\u001b[0;31mNameError\u001b[0m: name 'torch' is not defined"
          ]
        }
      ]
    },
    {
      "cell_type": "code",
      "execution_count": null,
      "metadata": {
        "colab": {
          "base_uri": "https://localhost:8080/"
        },
        "id": "m2Q6bvXWFoo2",
        "outputId": "52e6a23c-a700-4914-d565-6a893240ac3b"
      },
      "outputs": [
        {
          "output_type": "execute_result",
          "data": {
            "text/plain": [
              "Lenet(\n",
              "  (conv1): Conv2d(1, 6, kernel_size=(5, 5), stride=(1, 1))\n",
              "  (activate1): ReLU()\n",
              "  (pool1): MaxPool2d(kernel_size=2, stride=2, padding=0, dilation=1, ceil_mode=False)\n",
              "  (conv2): Conv2d(6, 16, kernel_size=(5, 5), stride=(1, 1))\n",
              "  (activate2): ReLU()\n",
              "  (pool2): MaxPool2d(kernel_size=2, stride=2, padding=0, dilation=1, ceil_mode=False)\n",
              "  (conv3): Conv2d(16, 120, kernel_size=(5, 5), stride=(1, 1))\n",
              "  (activate3): ReLU()\n",
              "  (flatten): Flatten(start_dim=1, end_dim=-1)\n",
              "  (linear1): Linear(in_features=120, out_features=84, bias=True)\n",
              "  (activate4): ReLU()\n",
              "  (linear2): Linear(in_features=84, out_features=10, bias=True)\n",
              ")"
            ]
          },
          "metadata": {},
          "execution_count": 30
        }
      ],
      "source": [
        "import torch\n",
        "import torch.nn as nn\n",
        "import torch.nn.functional as F\n",
        "\n",
        "class Lenet(nn.Module):\n",
        "    def __init__(self, num_classes):\n",
        "        super(Lenet, self).__init__()\n",
        "\n",
        "        self.conv1 = nn.Conv2d(in_channels=1, out_channels=6, kernel_size=5, stride=1)\n",
        "        self.activate1 = nn.ReLU()\n",
        "        self.pool1 = nn.MaxPool2d(kernel_size=2, stride=2)\n",
        "\n",
        "        self.conv2 = nn.Conv2d(in_channels=6, out_channels=16, kernel_size=5, stride=1)\n",
        "        self.activate2 = nn.ReLU()\n",
        "        self.pool2 = nn.MaxPool2d(kernel_size=2, stride=2)\n",
        "\n",
        "        self.conv3 = nn.Conv2d(in_channels=16, out_channels=120, kernel_size=5, stride=1)\n",
        "        self.activate3 = nn.ReLU()\n",
        "\n",
        "\n",
        "        self.flatten = nn.Flatten()\n",
        "        self.linear1 = nn.Linear(in_features=120, out_features=84)\n",
        "        self.activate4 = nn.ReLU()\n",
        "        self.linear2 = nn.Linear(in_features=84, out_features=num_classes)\n",
        "\n",
        "\n",
        "    def forward(self, x):\n",
        "        x = F.pad(x, (2, 2, 2, 2))\n",
        "        x = self.conv1(x)\n",
        "        x = self.activate1(x)\n",
        "        x = self.pool1(x)\n",
        "\n",
        "        x=self.conv2(x)\n",
        "        x=self.activate2(x)\n",
        "        x=self.pool2(x)\n",
        "\n",
        "        x=self.conv3(x)\n",
        "        x=self.activate3(x)\n",
        "\n",
        "        x=self.flatten(x)\n",
        "        x=self.linear1(x)\n",
        "        x=self.activate4(x)\n",
        "        x=self.linear2(x)\n",
        "\n",
        "        return x\n",
        "\n",
        "\n",
        "\n",
        "\n",
        "\n",
        "device=torch.device('cuda' if torch.cuda.is_available() else 'cpu' )\n",
        "\n",
        "model=Lenet(10).to(device)\n",
        "model"
      ]
    },
    {
      "cell_type": "code",
      "metadata": {
        "colab": {
          "base_uri": "https://localhost:8080/"
        },
        "id": "355e552f",
        "outputId": "0d0def42-a029-423b-9a47-d193081aa1f4"
      },
      "source": [
        "import torch\n",
        "from torch.utils.data import TensorDataset, DataLoader\n",
        "\n",
        "# Convert NumPy arrays to PyTorch tensors\n",
        "x_train_tensor = torch.tensor(x_train, dtype=torch.float32).unsqueeze(1) / 255.0\n",
        "y_train_tensor = torch.tensor(y_train, dtype=torch.long)\n",
        "x_val_tensor = torch.tensor(x_test, dtype=torch.float32).unsqueeze(1) / 255.0\n",
        "y_val_tensor = torch.tensor(y_test, dtype=torch.long)\n",
        "x_test_tensor = torch.tensor(x_test, dtype=torch.float32).unsqueeze(1) / 255.0\n",
        "y_test_tensor = torch.tensor(y_test, dtype=torch.long)\n",
        "\n",
        "# Create TensorDatasets\n",
        "train_dataset = TensorDataset(x_train_tensor, y_train_tensor)\n",
        "test_dataset = TensorDataset(x_test_tensor, y_test_tensor)\n",
        "\n",
        "val_size=int(0.1*len(train_dataset))\n",
        "\n",
        "# Create DataLoaders\n",
        "batch_size = 64\n",
        "train_loader = DataLoader(train_dataset, batch_size=batch_size, shuffle=True)\n",
        "val_loader = DataLoader(train_dataset, batch_size=batch_size, shuffle=True)\n",
        "test_loader = DataLoader(test_dataset, batch_size=batch_size, shuffle=False)\n",
        "\n",
        "print(\"Data preprocessing complete. DataLoaders created.\")"
      ],
      "execution_count": null,
      "outputs": [
        {
          "output_type": "stream",
          "name": "stdout",
          "text": [
            "Data preprocessing complete. DataLoaders created.\n"
          ]
        }
      ]
    },
    {
      "cell_type": "code",
      "source": [
        "#coding the training loop\n",
        "import torch.optim as optim\n",
        "\n",
        "current_loss=0\n",
        "\n",
        "\n",
        "loss_calc=nn.CrossEntropyLoss()\n",
        "optimizer=optim.Adam(model.parameters(),lr=0.001)\n",
        "\n",
        "num_epochs=5\n",
        "\n",
        "for epoch in range(num_epochs):\n",
        "    model.train()\n",
        "    current_loss=0\n",
        "    for images,label in train_loader:\n",
        "        images,label=images.to(device),label.to(device)\n",
        "\n",
        "          #clearing past gradients\n",
        "        optimizer.zero_grad()\n",
        "\n",
        "        #forward pass\n",
        "\n",
        "        output=model(images)\n",
        "\n",
        "\n",
        "\n",
        "\n",
        "        #loss\n",
        "        loss=loss_calc(output,label)\n",
        "\n",
        "\n",
        "\n",
        "        #loss back propagation\n",
        "        loss.backward()\n",
        "\n",
        "         #update parameters\n",
        "        optimizer.step()\n",
        "\n",
        "        current_loss+=loss.item()* images.size(0)\n",
        "\n",
        "\n",
        "    # print(f\"Epoch [{epoch+1}/{num_epochs}], Loss: {current_loss/len(train_loader):.4f}\")\n",
        "    avg_train_loss = current_loss / len(train_loader.dataset)\n",
        "\n",
        "    model.eval()\n",
        "    val_loss = 0\n",
        "\n",
        "    with torch.no_grad():\n",
        "        for images, label in val_loader:\n",
        "            images, label = images.to(device), label.to(device)\n",
        "            output = model(images)\n",
        "            loss = loss_calc(output, label)\n",
        "            val_loss += loss.item() * images.size(0)\n",
        "\n",
        "    avg_val_loss = val_loss / len(val_loader.dataset)\n",
        "\n",
        "    print(f\"Epoch [{epoch+1}/{num_epochs}], \"\n",
        "          f\"Train Loss: {avg_train_loss:.4f}, \"\n",
        "          f\"Val Loss: {avg_val_loss:.4f}\")\n",
        "\n",
        "\n",
        "\n",
        "\n"
      ],
      "metadata": {
        "colab": {
          "base_uri": "https://localhost:8080/"
        },
        "id": "Q4Q2e9_0KSXg",
        "outputId": "0ce72676-ceb6-4821-fcf8-1d41a85db89f"
      },
      "execution_count": null,
      "outputs": [
        {
          "output_type": "stream",
          "name": "stdout",
          "text": [
            "Epoch [1/5], Train Loss: 0.0440, Val Loss: 0.0449\n",
            "Epoch [2/5], Train Loss: 0.0401, Val Loss: 0.0362\n",
            "Epoch [3/5], Train Loss: 0.0476, Val Loss: 0.0277\n",
            "Epoch [4/5], Train Loss: 0.0357, Val Loss: 0.0409\n",
            "Epoch [5/5], Train Loss: 0.0374, Val Loss: 0.0362\n"
          ]
        }
      ]
    },
    {
      "cell_type": "code",
      "source": [
        "model.eval()  # Set to evaluation mode\n",
        "correct = 0\n",
        "total = 0\n",
        "\n",
        "with torch.no_grad():  # No need to track gradients\n",
        "    for images, labels in test_loader:\n",
        "        images, labels = images.to(device), labels.to(device)\n",
        "        outputs = model(images)\n",
        "\n",
        "        _, predicted = torch.max(outputs.data, 1)\n",
        "        total += labels.size(0)\n",
        "        correct += (predicted == labels).sum().item()\n",
        "\n",
        "print(f'Test Accuracy: {100 * correct / total:.2f}%')\n"
      ],
      "metadata": {
        "colab": {
          "base_uri": "https://localhost:8080/"
        },
        "id": "XlSuaDXNSWh5",
        "outputId": "634463a5-d766-47eb-c799-02a1ea3b0289"
      },
      "execution_count": null,
      "outputs": [
        {
          "output_type": "stream",
          "name": "stdout",
          "text": [
            "Test Accuracy: 90.01%\n"
          ]
        }
      ]
    },
    {
      "cell_type": "code",
      "source": [
        "#testing model on real photo\n",
        "\n",
        "from PIL import Image\n",
        "import torchvision.transforms as transforms\n",
        "import torch\n",
        "\n",
        "# Define transform (must match your training preprocessing)\n",
        "transform = transforms.Compose([\n",
        "    transforms.Grayscale(num_output_channels=1),  # Ensure grayscale\n",
        "    transforms.Resize((28, 28)),                  # Resize to FashionMNIST size\n",
        "    transforms.ToTensor(),                        # Convert to tensor\n",
        "    transforms.Normalize((0.5,), (0.5,))          # Normalize to [-1, 1]\n",
        "])\n",
        "\n",
        "# Load the image\n",
        "image_path = \"v.png\"  # Change this to your actual image path\n",
        "img = Image.open(image_path)\n",
        "\n",
        "# Apply the transform\n",
        "img_tensor = transform(img).unsqueeze(0)  # Shape: [1, 1, 28, 28]\n",
        "\n",
        "################# View Image\n",
        "img_unnorm = img_tensor * 0.5 + 0.5  # reverse normalization\n",
        "\n",
        "# Convert to numpy, squeeze channel dimension\n",
        "img_np = img_unnorm.squeeze().cpu().numpy()\n",
        "\n",
        "# Plot\n",
        "plt.imshow(img_np, cmap='gray')\n",
        "plt.title(\"Transformed Image (unnormalized)\")\n",
        "plt.axis('off')\n",
        "plt.show()\n",
        "\n",
        "# Move to the same device as model\n",
        "img_tensor = img_tensor.to(device)\n",
        "\n",
        "# Set model to evaluation mode\n",
        "model.eval()\n",
        "\n",
        "# Make prediction\n",
        "with torch.no_grad():\n",
        "    output = model(img_tensor)\n",
        "    predicted_class = output.argmax(dim=1).item()\n",
        "\n",
        "print(predicted_class)\n",
        "print(f\"Predicted class:\",classes[predicted_class])\n"
      ],
      "metadata": {
        "colab": {
          "base_uri": "https://localhost:8080/",
          "height": 463
        },
        "id": "PLYbKooJWnx1",
        "outputId": "552b1ea1-b2c5-4e5c-9a62-0f38e584d91e"
      },
      "execution_count": null,
      "outputs": [
        {
          "output_type": "display_data",
          "data": {
            "text/plain": [
              "<Figure size 640x480 with 1 Axes>"
            ],
            "image/png": "[encoded data removed]"
          },
          "metadata": {}
        },
        {
          "output_type": "stream",
          "name": "stdout",
          "text": [
            "5\n",
            "Predicted class: Sandal\n"
          ]
        }
      ]
    }
  ]
}