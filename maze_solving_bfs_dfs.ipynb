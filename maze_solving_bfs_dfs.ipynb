{
  "nbformat": 4,
  "nbformat_minor": 0,
  "metadata": {
    "colab": {
      "provenance": []
    },
    "kernelspec": {
      "name": "python3",
      "display_name": "Python 3"
    },
    "language_info": {
      "name": "python"
    }
  },
  "cells": [
    {
      "cell_type": "code",
      "execution_count": null,
      "metadata": {
        "id": "xadUxGR8zBwX"
      },
      "outputs": [],
      "source": [
        "#### maize solving problem\n",
        "\n",
        "\n",
        "maze = [\n",
        "['S', 0, 1, 0, 0, 1, 0, 0, 0, 1, 0, 1, 0, 0, 0, 1, 0, 0, 1, 0],\n",
        "[1, 0, 1, 0, 1, 1, 0, 1, 0, 1, 0, 1, 0, 1, 0, 1, 0, 1, 0, 0],\n",
        "[0, 0, 0, 0, 0, 0, 0, 1, 0, 0, 0, 1, 0, 0, 0, 1, 0, 0, 1, 0],\n",
        "[0, 1, 1, 1, 1, 1, 0, 1, 1, 1, 0, 1, 1, 1, 0, 1, 1, 0, 1, 0],\n",
        "[0, 1, 0, 0, 0, 0, 0, 0, 0, 1, 0, 0, 0, 0, 0, 0, 1, 0, 0, 0],\n",
        "[1, 1, 0, 1, 1, 1, 1, 1, 0, 1, 1, 1, 1, 1, 1, 0, 1, 1, 1, 0],\n",
        "[0, 0, 0, 1, 0, 0, 0, 0, 0, 0, 0, 0, 0, 0, 1, 0, 0, 0, 0, 0],\n",
        "[0, 1, 0, 1, 0, 1, 1, 1, 1, 1, 1, 1, 1, 0, 1, 1, 1, 1, 1, 0],\n",
        "[0, 1, 0, 0, 0, 1, 0, 0, 0, 0, 0, 0, 1, 0, 0, 0, 0, 0, 1, 0],\n",
        "[0, 1, 1, 1, 0, 1, 0, 1, 1, 1, 1, 0, 1, 1, 1, 1, 1, 0, 1, 0],\n",
        "[0, 0, 0, 1, 0, 0, 0, 1, 0, 0, 1, 0, 0, 0, 0, 0, 1, 0, 0, 0],\n",
        "[1, 1, 0, 1, 1, 1, 0, 1, 0, 1, 1, 1, 1, 1, 1, 0, 1, 1, 1, 0],\n",
        "[0, 1, 0, 0, 0, 1, 0, 0, 0, 1, 0, 0, 0, 0, 1, 0, 0, 0, 1, 0],\n",
        "[0, 1, 1, 1, 0, 1, 1, 1, 0, 1, 0, 1, 1, 0, 1, 1, 1, 0, 1, 0],\n",
        "[0, 0, 0, 1, 0, 0, 0, 1, 0, 0, 0, 1, 0, 0, 0, 1, 0, 0, 0, 0],\n",
        "[1, 1, 0, 1, 1, 1, 0, 1, 1, 1, 0, 1, 0, 1, 0, 1, 0, 1, 1, 1],\n",
        "[0, 0, 0, 0, 0, 1, 0, 0, 0, 0, 0, 1, 0, 1, 0, 0, 0, 0, 0, 0],\n",
        "[0, 1, 1, 1, 0, 1, 1, 1, 1, 1, 0, 1, 1, 1, 1, 1, 1, 1, 1, 0],\n",
        "[0, 0, 0, 1, 0, 0, 0, 0, 0, 0, 0, 0, 0, 0, 0, 0, 0, 0, 0, 0],\n",
        "[1, 1, 0, 1, 1, 1, 1, 1, 1, 1, 1, 1, 1, 1, 1, 1, 1, 1, 1, 'G'],\n",
        "]"
      ]
    },
    {
      "cell_type": "code",
      "source": [
        "#turning maize into a numpy array of  numeric format from mixed format\n",
        "import numpy as np\n",
        "\n",
        "\n",
        "\n",
        "def to_numeric(maize):\n",
        "  for i in range(len(maize)):\n",
        "    for j in range(len(maize[i])):\n",
        "      if maize[i][j] == 'S':\n",
        "        maize[i][j] = 2\n",
        "      elif maize[i][j]=='G':\n",
        "        maize[i][j]=3\n",
        "      else:\n",
        "        continue\n",
        "  return np.array(maize)\n",
        "\n",
        "\n",
        "maize=to_numeric(maze)\n",
        "\n",
        "print(maize)\n"
      ],
      "metadata": {
        "colab": {
          "base_uri": "https://localhost:8080/"
        },
        "id": "kC0_WIVqz7Xu",
        "outputId": "e7fdc67f-71eb-4b19-9257-bd9f719a083a"
      },
      "execution_count": null,
      "outputs": [
        {
          "output_type": "stream",
          "name": "stdout",
          "text": [
            "[[2 0 1 0 0 1 0 0 0 1 0 1 0 0 0 1 0 0 1 0]\n",
            " [1 0 1 0 1 1 0 1 0 1 0 1 0 1 0 1 0 1 0 0]\n",
            " [0 0 0 0 0 0 0 1 0 0 0 1 0 0 0 1 0 0 1 0]\n",
            " [0 1 1 1 1 1 0 1 1 1 0 1 1 1 0 1 1 0 1 0]\n",
            " [0 1 0 0 0 0 0 0 0 1 0 0 0 0 0 0 1 0 0 0]\n",
            " [1 1 0 1 1 1 1 1 0 1 1 1 1 1 1 0 1 1 1 0]\n",
            " [0 0 0 1 0 0 0 0 0 0 0 0 0 0 1 0 0 0 0 0]\n",
            " [0 1 0 1 0 1 1 1 1 1 1 1 1 0 1 1 1 1 1 0]\n",
            " [0 1 0 0 0 1 0 0 0 0 0 0 1 0 0 0 0 0 1 0]\n",
            " [0 1 1 1 0 1 0 1 1 1 1 0 1 1 1 1 1 0 1 0]\n",
            " [0 0 0 1 0 0 0 1 0 0 1 0 0 0 0 0 1 0 0 0]\n",
            " [1 1 0 1 1 1 0 1 0 1 1 1 1 1 1 0 1 1 1 0]\n",
            " [0 1 0 0 0 1 0 0 0 1 0 0 0 0 1 0 0 0 1 0]\n",
            " [0 1 1 1 0 1 1 1 0 1 0 1 1 0 1 1 1 0 1 0]\n",
            " [0 0 0 1 0 0 0 1 0 0 0 1 0 0 0 1 0 0 0 0]\n",
            " [1 1 0 1 1 1 0 1 1 1 0 1 0 1 0 1 0 1 1 1]\n",
            " [0 0 0 0 0 1 0 0 0 0 0 1 0 1 0 0 0 0 0 0]\n",
            " [0 1 1 1 0 1 1 1 1 1 0 1 1 1 1 1 1 1 1 0]\n",
            " [0 0 0 1 0 0 0 0 0 0 0 0 0 0 0 0 0 0 0 0]\n",
            " [1 1 0 1 1 1 1 1 1 1 1 1 1 1 1 1 1 1 1 3]]\n"
          ]
        }
      ]
    },
    {
      "cell_type": "code",
      "source": [
        "print(len(maize))"
      ],
      "metadata": {
        "colab": {
          "base_uri": "https://localhost:8080/"
        },
        "id": "iLmTzCnm2Xeg",
        "outputId": "dbe35290-cb4f-4ebf-ecb7-ae0cbbc5f2f2"
      },
      "execution_count": null,
      "outputs": [
        {
          "output_type": "stream",
          "name": "stdout",
          "text": [
            "20\n"
          ]
        }
      ]
    },
    {
      "cell_type": "code",
      "source": [
        "#Finding position of S and G on the maize i.e 2 and 3\n",
        "\n",
        "\n",
        "def find_pos(value):\n",
        "  for i in range(len(maize)):\n",
        "    for j in range(len(maize[i])):\n",
        "      if maize[i][j]==value:\n",
        "        return i,j\n",
        "      else:\n",
        "        continue\n",
        "\n",
        "  return None\n",
        "\n"
      ],
      "metadata": {
        "id": "HlG4aqeF1XUu"
      },
      "execution_count": null,
      "outputs": []
    },
    {
      "cell_type": "code",
      "source": [
        "s_position=find_pos(2)\n",
        "g_position=find_pos(3)\n",
        "\n",
        "print(s_position)\n",
        "print(g_position)"
      ],
      "metadata": {
        "colab": {
          "base_uri": "https://localhost:8080/"
        },
        "id": "2P5htZus2Huo",
        "outputId": "bb526d2a-9a4c-4649-ba18-3abb3f589858"
      },
      "execution_count": null,
      "outputs": [
        {
          "output_type": "stream",
          "name": "stdout",
          "text": [
            "(0, 0)\n",
            "(19, 19)\n"
          ]
        }
      ]
    },
    {
      "cell_type": "code",
      "source": [
        "#Visualizing maize with matplotlib\n",
        "\n",
        "import matplotlib.pyplot as plt\n",
        "import matplotlib.colors as mcolors\n",
        "import numpy as np\n",
        "\n",
        "# def visualise(maize):\n",
        "#   # Create a custom colormap\n",
        "#   cmap = mcolors.ListedColormap(['white', 'black', 'green', 'red'])\n",
        "#   bounds = [-0.5, 0.5, 1.5, 2.5, 3.5]\n",
        "#   norm = mcolors.BoundaryNorm(bounds, cmap.N)\n",
        "\n",
        "#   plt.imshow(maize, cmap=cmap, norm=norm)\n",
        "#   plt.title(\"Maze Visualization\")\n",
        "#   # Add a colorbar to show the mapping of values to colors\n",
        "#   cbar = plt.colorbar(ticks=[0, 1, 2, 3])\n",
        "#   cbar.ax.set_yticklabels(['0', '1', '2 (S)', '3 (G)'])\n",
        "#   plt.show()\n",
        "\n",
        "# visualise(maize)\n",
        "\n",
        "import matplotlib.pyplot as plt\n",
        "import matplotlib.colors as mcolors\n",
        "from IPython.display import clear_output, display\n",
        "\n",
        "# Create global figure and axis once\n",
        "fig, ax = plt.subplots(figsize=(6, 6))\n",
        "\n",
        "def visualise(maize):\n",
        "    cmap = mcolors.ListedColormap(['white', 'black', 'orange', 'red', 'green', 'blue'])\n",
        "    bounds = [-0.5, 0.5, 1.5, 2.5, 3.5, 4.5, 5.5]\n",
        "    norm = mcolors.BoundaryNorm(bounds, cmap.N)\n",
        "\n",
        "    ax.clear()  # Clear only the axis, not the whole figure\n",
        "    ax.imshow(maize, cmap=cmap, norm=norm)\n",
        "    ax.set_title(\"Maze Search Animation\")\n",
        "\n",
        "    clear_output(wait=True)     # Clear old plot output in the notebook\n",
        "    display(fig)                # Show updated figure\n",
        "    plt.pause(0.1)\n",
        "\n",
        "\n",
        "\n"
      ],
      "metadata": {
        "colab": {
          "base_uri": "https://localhost:8080/",
          "height": 528
        },
        "id": "2fx2uVJE2tPM",
        "outputId": "4e5507a0-4778-4c16-c946-0f154638ea48"
      },
      "execution_count": null,
      "outputs": [
        {
          "output_type": "display_data",
          "data": {
            "text/plain": [
              "<Figure size 600x600 with 1 Axes>"
            ],
            "image/png": "[encoded data removed]"
          },
          "metadata": {}
        }
      ]
    },
    {
      "cell_type": "code",
      "source": [
        "# We need to find all legal moves in the cell-skipping walla and boundaries. So, create a\n",
        "# function “get_neighbors(r,c)”. Use the following hints:\n",
        "# a. There are 4 cardinal directions: right, left, down, up. So we attempt to move one\n",
        "# step in each of the 4 directions\n",
        "\n",
        "# b. Compute the neighbor’s position. [Hint: r,c = r+dr, c+dc]\n",
        "# c. Check if the neighbor is within bounds. [Hint: 0 < r < ROWS, same for the\n",
        "# columns]\n",
        "# d. Yield those moments that satisfy the above check.\n",
        "\n",
        "def get_neighbours(r,c):\n",
        "  poss=[(1,0),(0,1),(-1,0),(0,-1)]\n",
        "  legal_move=[]\n",
        "\n",
        "\n",
        "  for k in range(len(poss)):\n",
        "    dr,dc=poss[k]\n",
        "    if r+dr>=0 and r+dr<len(maize) and c+dc>=0 and c+dc<len(maize[r]):\n",
        "      if maize[r+dr][c+dc]!=1:\n",
        "        legal_move.append((r+dr,c+dc))\n",
        "      else:\n",
        "        continue\n",
        "\n",
        "  # for i in range(len(maize)):\n",
        "  #   for j in range(len(maize[i])):\n",
        "  #     for k in range(len(poss)):\n",
        "  #       dr,dc=poss[k]\n",
        "  #       if i+dr>=0 and i+dr<len(maize) and j+dc>=0 and j+dc<len(maize[i]):\n",
        "  #         if maize[i+dr][j+dc]!=1:\n",
        "  #           legal_move.append((i+dr,j+dc))\n",
        "  #         else:\n",
        "  #           continue\n",
        "\n",
        "\n",
        "  return legal_move\n",
        "\n"
      ],
      "metadata": {
        "id": "tmPRprAN6EIQ"
      },
      "execution_count": null,
      "outputs": []
    },
    {
      "cell_type": "code",
      "source": [
        "#calling neighbour function\n",
        "\n",
        "print(get_neighbours(19,19))\n",
        "print(get_neighbours(0,0))"
      ],
      "metadata": {
        "colab": {
          "base_uri": "https://localhost:8080/"
        },
        "id": "k1F4hCWY9rS_",
        "outputId": "5ea93b54-a4ee-4248-d07c-9e0dda1c37db"
      },
      "execution_count": null,
      "outputs": [
        {
          "output_type": "stream",
          "name": "stdout",
          "text": [
            "[(19, 19)]\n",
            "[(0, 1), (1, 1), (0, 0)]\n"
          ]
        }
      ]
    },
    {
      "cell_type": "code",
      "source": [
        "# Create a single function to implement DFS or BFS with visualization(animation). Use\n",
        "# the following hints:\n",
        "# a. Use “cmap = matplotlib.colors.ListedColormap()” for picking colors.\n",
        "# i. White = free, Black = Wall\n",
        "# ii. Orange = Start, Red = Goal\n",
        "# iii. Green color = cells visited during search\n",
        "# iv. Blue color = cells that are part of the final path\n",
        "# b. Initialize the frontier:\n",
        "# i. BFS (Data Structure used = Queue): Use “deque” python object for queue\n",
        "# behavior\n",
        "# ii. DFS (Data structure used = Stack): Use “list” python object for stack\n",
        "# behavior [Hint: A list can be used as a stack, if you use .pop() to remove\n",
        "# the recently added (or “rightmost”) element in the list.\n",
        "\n",
        "# c. Implement the search loop. If BFS gets the first element(FIFO. If DFS, gets the\n",
        "# last element (LIFO).\n",
        "# i. Hint: “while frontier: (r, c), path = frontier.popleft() if algorithm == 'bfs' else\n",
        "# frontier.pop()”\n",
        "\n",
        "# d. Check the visited state and color the path as green color\n",
        "# e. Check the goal state and color the path as blue color\n",
        "\n",
        "\n",
        "import matplotlib.pyplot as plt\n",
        "import matplotlib.colors as mcolors\n",
        "import numpy as np\n",
        "from collections import deque\n",
        "\n",
        "\n",
        "def search_maze(maize, algorithm='bfs'):\n",
        "    start = find_pos(2)\n",
        "    goal = find_pos(3)\n",
        "\n",
        "    # Choose data structure\n",
        "    frontier = deque()\n",
        "    frontier.append((start, [start]))  # (current position, path so far)\n",
        "\n",
        "    visited = set()\n",
        "\n",
        "    while frontier:\n",
        "        # BFS: FIFO -> popleft; DFS: LIFO -> pop\n",
        "        (r, c), path = frontier.popleft() if algorithm == 'bfs' else frontier.pop()\n",
        "\n",
        "        if (r, c) in visited:\n",
        "            continue\n",
        "        visited.add((r, c))\n",
        "\n",
        "        # Mark visited (except start and goal)\n",
        "        if maize[r][c] not in [2, 3]:\n",
        "            maize[r][c] = 4  # Green for visited\n",
        "        visualise(maize)\n",
        "\n",
        "        if (r, c) == goal:\n",
        "            for pr, pc in path:\n",
        "                if maize[pr][pc] not in [2, 3]:\n",
        "                    maize[pr][pc] = 5  # Blue for final path\n",
        "                visualise(maize)\n",
        "            print(f\"Goal reached in {len(path)} steps.\")\n",
        "            return path\n",
        "\n",
        "        for neighbor in get_neighbours(r, c):\n",
        "            if neighbor not in visited:\n",
        "                frontier.append((neighbor, path + [neighbor]))\n",
        "\n",
        "    print(\"Goal not reachable.\")\n",
        "    return None\n",
        "\n"
      ],
      "metadata": {
        "id": "MUgfqs4x_ePL"
      },
      "execution_count": null,
      "outputs": []
    },
    {
      "cell_type": "code",
      "source": [
        "def run_maze_solver(maize):\n",
        "    while True:\n",
        "        print(\"ASS\")\n",
        "        algo = input(\"Choose search algorithm (BFS or DFS): \").strip().lower()\n",
        "        if algo in ['bfs', 'dfs']:\n",
        "            break\n",
        "        else:\n",
        "            print(\"Invalid input. Please type 'bfs' or 'dfs'.\")\n",
        "\n",
        "    plt.figure(figsize=(6, 6))\n",
        "    print(\"Press 'Q' to quit the animation at any time.\")\n",
        "    search_maze(maize, algorithm=algo)"
      ],
      "metadata": {
        "id": "D5hRQYc5Droy"
      },
      "execution_count": null,
      "outputs": []
    },
    {
      "cell_type": "code",
      "source": [
        "run_maze_solver(maize)"
      ],
      "metadata": {
        "colab": {
          "base_uri": "https://localhost:8080/",
          "height": 562
        },
        "id": "JOeL-NBpEgNK",
        "outputId": "1d4232a8-a85a-45f9-adb9-0b04f19b014f"
      },
      "execution_count": null,
      "outputs": [
        {
          "output_type": "display_data",
          "data": {
            "text/plain": [
              "<Figure size 600x600 with 1 Axes>"
            ],
            "image/png": "[encoded data removed]"
          },
          "metadata": {}
        },
        {
          "output_type": "stream",
          "name": "stdout",
          "text": [
            "Goal reached in 45 steps.\n"
          ]
        }
      ]
    }
  ]
}